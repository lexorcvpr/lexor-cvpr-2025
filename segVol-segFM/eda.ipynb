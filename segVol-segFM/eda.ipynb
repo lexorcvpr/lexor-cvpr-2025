{
 "cells": [
  {
   "cell_type": "code",
   "execution_count": 3,
   "id": "da7a539f",
   "metadata": {},
   "outputs": [
    {
     "name": "stdout",
     "output_type": "stream",
     "text": [
      "File 1: /home/sebastian/codes/data/CVPR-2025-CHALLENGE/3D_val_npz/3D_val_npz/MR_heart-ACDC_ACDC_patient119_frame09_myo.npz\n",
      "Keys: ['imgs', 'allow_pickle', 'spacing', 'text_prompts']\n",
      "Key: imgs, Type: <class 'numpy.ndarray'>, Unique Values: [  0   1   3   5   7   9  11  13  15  17  19  21  23  25  27  29  31  33\n",
      "  35  37  39  41  43  45  47  49  51  53  55  57  59  61  63  65  67  69\n",
      "  71  73  75  77  79  81  83  85  87  89  91  93  95  97  99 101 103 105\n",
      " 107 109 111 113 115 117 119 121 123 125 127 129 131 133 135 137 139 141\n",
      " 143 145 147 149 151 153 155 157 159 161 163 165 167 169 171 173 175 177\n",
      " 179 181 183 185 187 189 191 193 195 197 199 201 203 205 207 209 211 213\n",
      " 215 217 219 221 223 225 227 229 231 233 235 237 239 241 243 245 247 249\n",
      " 251 253 255]\n",
      "Key: allow_pickle, Type: <class 'numpy.ndarray'>, Unique Values: [ True]\n",
      "Key: spacing, Type: <class 'numpy.ndarray'>, Unique Values: [1.68269002 5.        ]\n",
      "Key: text_prompts, Type: <class 'numpy.ndarray'>, Unique Values: [{'1': 'Right ventricle cavity visualization in chest MR scans', '2': 'Myocardium mapping in chest MR acquisitions', '3': 'Left ventricle cavity endocardial border identification in chest MR acquisitions', 'instance_label': 0}]\n",
      "--------------------------------------------------\n"
     ]
    }
   ],
   "source": [
    "import numpy as np\n",
    "import os\n",
    "\n",
    "img_dir = '/home/sebastian/codes/data/CVPR-2025-CHALLENGE/3D_val_npz/3D_val_npz'\n",
    "\n",
    "# List all .npz files in the directory\n",
    "npz_files = [os.path.join(img_dir, f) for f in os.listdir(img_dir) if f.endswith('.npz')]\n",
    "\n",
    "# Read the first 5 .npz files and inspect their contents\n",
    "for i, npz_file in enumerate(npz_files[:1]):\n",
    "    print(f\"File {i + 1}: {npz_file}\")\n",
    "    data = np.load(npz_file, allow_pickle=True)\n",
    "    print(\"Keys:\", list(data.keys()))\n",
    "    for key in data.keys():\n",
    "        value = data[key]\n",
    "        if isinstance(value, np.ndarray):\n",
    "            try:\n",
    "                unique_values = np.unique(value)\n",
    "            except TypeError:\n",
    "                unique_values = \"Cannot determine unique values (unsupported type)\"\n",
    "        else:\n",
    "            unique_values = \"N/A\"\n",
    "        print(f\"Key: {key}, Type: {type(value)}, Unique Values: {unique_values}\")\n",
    "    print(\"-\" * 50)"
   ]
  }
 ],
 "metadata": {
  "kernelspec": {
   "display_name": "segvol",
   "language": "python",
   "name": "python3"
  },
  "language_info": {
   "codemirror_mode": {
    "name": "ipython",
    "version": 3
   },
   "file_extension": ".py",
   "mimetype": "text/x-python",
   "name": "python",
   "nbconvert_exporter": "python",
   "pygments_lexer": "ipython3",
   "version": "3.10.8"
  }
 },
 "nbformat": 4,
 "nbformat_minor": 5
}
